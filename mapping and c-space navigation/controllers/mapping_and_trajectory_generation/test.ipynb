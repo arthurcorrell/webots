{
 "cells": [
  {
   "cell_type": "code",
   "execution_count": 3,
   "metadata": {},
   "outputs": [
    {
     "name": "stdout",
     "output_type": "stream",
     "text": [
      "(56, 103)\n"
     ]
    }
   ],
   "source": [
    "import numpy as np\n",
    "\n",
    "target = (0.9, -1.5)\n",
    "\n",
    "target_xw, target_yw = target\n",
    "# map world x to display x\n",
    "target_px = int(np.interp(target_xw,[-2.1, 2.1], [199, 0]))\n",
    "# map world y to display y\n",
    "target_py = int(np.interp(target_yw,[-3.7, 1.6], [0, 249]))\n",
    "target = (target_px, target_py)\n",
    "\n",
    "print(target)"
   ]
  }
 ],
 "metadata": {
  "kernelspec": {
   "display_name": "Python 3",
   "language": "python",
   "name": "python3"
  },
  "language_info": {
   "codemirror_mode": {
    "name": "ipython",
    "version": 3
   },
   "file_extension": ".py",
   "mimetype": "text/x-python",
   "name": "python",
   "nbconvert_exporter": "python",
   "pygments_lexer": "ipython3",
   "version": "3.12.8"
  }
 },
 "nbformat": 4,
 "nbformat_minor": 2
}
